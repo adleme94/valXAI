{
 "cells": [
  {
   "cell_type": "code",
   "execution_count": 9,
   "metadata": {},
   "outputs": [],
   "source": [
    "import pickle\n",
    "from doctorailib import pre_processing"
   ]
  },
  {
   "cell_type": "code",
   "execution_count": 10,
   "metadata": {},
   "outputs": [],
   "source": [
    "#these are the pickle dictionaries containing the descriptions of the codes (ICD-9 and CCS codes)\n",
    "ICD9_description_dict = pickle.load(open('./ICD9_description_dict.pkl', 'rb'))\n",
    "CCS_description_dict = pickle.load(open('./CCS_description_dict.pkl', 'rb'))"
   ]
  },
  {
   "cell_type": "code",
   "execution_count": 11,
   "metadata": {},
   "outputs": [
    {
     "name": "stdout",
     "output_type": "stream",
     "text": [
      "0.0 % of diagnoses do not have the related ICD9 code associated (NaN values)\n",
      "dropping the cases where there is no ICD9 code in the DIAGNOSES_ICD table\n",
      "\n",
      "Created \"clean_DIAGNOSES_ICD.csv\" and \"clean_ADMISSIONS.csv\" in ./mimic/\n",
      "Building pid-admission mapping, admission-date mapping\n",
      "Building admission-dxList mapping\n",
      "Building pid-sortedVisits mapping\n",
      "Building pids, dates, strSeqs\n",
      "Converting strSeqs to intSeqs, and making types\n",
      "number of unique ICD9 codes in mimic: 259\n",
      "number of unique CCS-grouper codes in mimic: 101\n",
      "Converting strSeqs to intSeqs, and making CCStypes\n",
      "\n",
      "You can use the files visit and label (.train/.valid/.test) in ./preprocessing_doctorai/ to train doctorAI:\n",
      "seqFile=\"./preprocessing_doctorai/visit\"\n",
      "labelFile=\"./preprocessing_doctorai/label\"\n",
      "outFile=\"<output_path>/trained_drAI_model\"\n",
      "dr = doctorai.DoctorAI(ICD9_to_int_dict=\"./preprocessing_doctorai//ICD9_to_int_dict\",CCS_to_int_dict=\"./preprocessing_doctorai//CCS_to_int_dict\",verbose=True)\n",
      "dr.train_doctorAI(seqFile=seqFile, inputDimSize=259, labelFile=labelFile, numClass=101, outFile=outFile, max_epochs=50)\n"
     ]
    }
   ],
   "source": [
    "# qui ci va il path dove hai salvato le tabelle ADMISSIONS.csv and DIAGNOSES_ICD.csv di MIMIC-III (già unzippate)\n",
    "mimic_path = './mimic/'\n",
    "# qui ci va il path dove vuoi che ti salvi l'output del preprocessing:\n",
    "output_path = './preprocessing_doctorai/'\n",
    "# qui ci va il path dove si trova il csv del CCS grouper\n",
    "CCS_grouper_csv_file_path = './doctorailib/'\n",
    "# CCS = True perchè vogliamo che doctorAI predica i codici CCS e non gli ICD9 \n",
    "# i codici CCS sono dei codici che raggruppano insieme i codici ICD9 in gruppi clinicamente sensati.\n",
    "pre_processing.prepare_mimic(mimic_path=mimic_path, CCS_grouper_csv_file_path=CCS_grouper_csv_file_path, output_path=output_path, CCS=True)"
   ]
  },
  {
   "cell_type": "code",
   "execution_count": null,
   "metadata": {},
   "outputs": [],
   "source": []
  }
 ],
 "metadata": {
  "kernelspec": {
   "display_name": "Python 3.9.13 ('base')",
   "language": "python",
   "name": "python3"
  },
  "language_info": {
   "codemirror_mode": {
    "name": "ipython",
    "version": 3
   },
   "file_extension": ".py",
   "mimetype": "text/x-python",
   "name": "python",
   "nbconvert_exporter": "python",
   "pygments_lexer": "ipython3",
   "version": "3.9.13"
  },
  "orig_nbformat": 4,
  "vscode": {
   "interpreter": {
    "hash": "583924605b957242ff4e0ff28f2526d1d3bc0cd2a479b4516ab2f82f4220199f"
   }
  }
 },
 "nbformat": 4,
 "nbformat_minor": 2
}
