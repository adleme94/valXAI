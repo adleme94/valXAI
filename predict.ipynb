{
 "cells": [
  {
   "cell_type": "code",
   "execution_count": 8,
   "metadata": {},
   "outputs": [],
   "source": [
    "import numpy as np\n",
    "from doctorailib import doctorai\n",
    "\n",
    "import warnings\n",
    "warnings.filterwarnings('ignore')"
   ]
  },
  {
   "cell_type": "code",
   "execution_count": 6,
   "metadata": {},
   "outputs": [],
   "source": [
    "model_file = './models/2022_10_27_MIMIC_III_.28.npz'\n",
    "dr = doctorai.DoctorAI(modelFile=model_file,\n",
    "                       ICD9_to_int_dict=\"./preprocessing_doctorai/ICD9_to_int_dict\",\n",
    "                       CCS_to_int_dict=\"./preprocessing_doctorai/CCS_to_int_dict\")"
   ]
  },
  {
   "cell_type": "code",
   "execution_count": 7,
   "metadata": {},
   "outputs": [
    {
     "name": "stdout",
     "output_type": "stream",
     "text": [
      "build model ... \n",
      "load data ... \n",
      "done\n",
      "recall@10:0.27539755617915646, recall@20:0.4516249747607173, recall@30:0.5090092906956631\n"
     ]
    }
   ],
   "source": [
    "#test set performance\n",
    "visit_test = \"./preprocessing_doctorai/visit.test\"\n",
    "label_test = \"./preprocessing_doctorai/label.test\"\n",
    "dr.test_doctorAI(modelFile=model_file, hiddenDimSize=[200,200], visit_test=visit_test, label_test=label_test)"
   ]
  },
  {
   "cell_type": "code",
   "execution_count": 9,
   "metadata": {},
   "outputs": [],
   "source": [
    "#prendo tutte le sequenze di ICD9 generate nel preprocessing\n",
    "dataset_sequences = np.load('./preprocessing_doctorai/mimic_sequences.npy',allow_pickle=True)\n",
    "#seleziono un paziente da spiegare\n",
    "patient_sequence = dataset_sequences[2]\n",
    "#imposto il modello di doctorAI come black-box\n",
    "black_box_oracle = dr\n",
    "#seleziono il file dell'ontologia\n",
    "ontology_path_file = './doctorXAIlib/ICD9_ontology.csv'"
   ]
  },
  {
   "cell_type": "code",
   "execution_count": 10,
   "metadata": {},
   "outputs": [
    {
     "name": "stdout",
     "output_type": "stream",
     "text": [
      "[['227.3', '486', '584.9', '253.2', '397.0', '428.0', '276.0', '707.06', '255.4', '250.00', '294.8', '244.9'], ['038.9', '507.0', '428.0', '008.45', '276.0', '995.92', '250.00', '244.9']]\n"
     ]
    }
   ],
   "source": [
    "print(patient_sequence)"
   ]
  },
  {
   "cell_type": "code",
   "execution_count": 11,
   "metadata": {},
   "outputs": [
    {
     "name": "stdout",
     "output_type": "stream",
     "text": [
      "[131, 55, 259, 122, 2, 106, 108, 59, 98, 127, 157, 38, 101, 58, 118, 199, 158, 4, 153, 249, 155, 129, 237, 1, 111, 653, 79, 3, 12, 97]\n"
     ]
    }
   ],
   "source": [
    "print(dr.predict(patient_sequence))"
   ]
  },
  {
   "cell_type": "code",
   "execution_count": null,
   "metadata": {},
   "outputs": [],
   "source": []
  }
 ],
 "metadata": {
  "kernelspec": {
   "display_name": "Python 3.9.13 ('base')",
   "language": "python",
   "name": "python3"
  },
  "language_info": {
   "codemirror_mode": {
    "name": "ipython",
    "version": 3
   },
   "file_extension": ".py",
   "mimetype": "text/x-python",
   "name": "python",
   "nbconvert_exporter": "python",
   "pygments_lexer": "ipython3",
   "version": "3.9.13"
  },
  "orig_nbformat": 4,
  "vscode": {
   "interpreter": {
    "hash": "583924605b957242ff4e0ff28f2526d1d3bc0cd2a479b4516ab2f82f4220199f"
   }
  }
 },
 "nbformat": 4,
 "nbformat_minor": 2
}
